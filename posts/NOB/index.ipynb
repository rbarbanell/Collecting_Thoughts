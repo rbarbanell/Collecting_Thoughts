{
  "cells": [
    {
      "cell_type": "raw",
      "metadata": {},
      "source": [
        "---\n",
        "title:  Willamette University Master Capstone Project 2023 \n",
        "subtitle:  Ness of Brodgar a Neoglithic Archeology Site in Orkney Scotland\n",
        "\n",
        "author: \"Becca Barbanell \"\n",
        "date: \"2023-02-27\"\n",
        "categories: [RShiny, Archeology, Database, Scotland, Neoglithic, Capstone]\n",
        "image: \"17a.jpg\"\n",
        "\n",
        "number-sections: false\n",
        "title-block-banner: true\n",
        "\n",
        "cite-method: biblatex\n",
        "comments: \n",
        "    utterances: \n",
        "      repo: quarto-dev/quarto-web\n",
        "      theme: gruvbox-dark\n",
        "      issue-term: title\n",
        "      \n",
        "---"
      ],
      "id": "aa74e8d6"
    },
    {
      "cell_type": "markdown",
      "metadata": {},
      "source": [
        "```{css, echo=FALSE}\n",
        ".subtitle {\n",
        "  font-size: 100px;\n",
        "  font-style: italic;\n",
        "  font-family: Arial;\n",
        "  font-variant: small-caps;\n",
        "}\n",
        "```\n",
        "\n",
        "\n",
        "\n",
        "![Professor Scott Pike, Soil collection of Hearth Structure 8, fig.1](17a.jpg)\n",
        "\n",
        "\n",
        "\n",
        "![Professor Scott Pike,Soil Soil collection of Hearth Structure 8, fig. 2](19aa.jpg)\n"
      ],
      "id": "d1712e1a"
    }
  ],
  "metadata": {
    "kernelspec": {
      "display_name": "Python 3",
      "language": "python",
      "name": "python3"
    }
  },
  "nbformat": 4,
  "nbformat_minor": 5
}